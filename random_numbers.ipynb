{
 "cells": [
  {
   "cell_type": "code",
   "execution_count": 1,
   "id": "fb61a09e",
   "metadata": {},
   "outputs": [],
   "source": [
    "# Import the random module.\n",
    "import random"
   ]
  },
  {
   "cell_type": "code",
   "execution_count": 3,
   "id": "10d7d4b5",
   "metadata": {},
   "outputs": [
    {
     "data": {
      "text/plain": [
       "51"
      ]
     },
     "execution_count": 3,
     "metadata": {},
     "output_type": "execute_result"
    }
   ],
   "source": [
    "random.randint(-90, 90)"
   ]
  },
  {
   "cell_type": "code",
   "execution_count": 5,
   "id": "a1207d7a",
   "metadata": {},
   "outputs": [
    {
     "data": {
      "text/plain": [
       "0.35097728059617683"
      ]
     },
     "execution_count": 5,
     "metadata": {},
     "output_type": "execute_result"
    }
   ],
   "source": [
    "random.random()"
   ]
  },
  {
   "cell_type": "code",
   "execution_count": 6,
   "id": "481be668",
   "metadata": {},
   "outputs": [
    {
     "data": {
      "text/plain": [
       "25.796411139948816"
      ]
     },
     "execution_count": 6,
     "metadata": {},
     "output_type": "execute_result"
    }
   ],
   "source": [
    "random_number = random.randint(-90, 89) + random.random()\n",
    "random_number"
   ]
  },
  {
   "cell_type": "code",
   "execution_count": 8,
   "id": "acb5d220",
   "metadata": {},
   "outputs": [
    {
     "data": {
      "text/plain": [
       "[-50.59719261424861,\n",
       " -5.392229500061627,\n",
       " 12.309598245181801,\n",
       " -78.12671589333803,\n",
       " 7.113532660320622,\n",
       " -57.8903576676533,\n",
       " 26.304839710228844,\n",
       " 9.986171461948357,\n",
       " -33.966546867580426,\n",
       " 89.49635708885982]"
      ]
     },
     "execution_count": 8,
     "metadata": {},
     "output_type": "execute_result"
    }
   ],
   "source": [
    "x = 1\n",
    "latitudes = []\n",
    "while x < 11:\n",
    "    random_lat = random.randint(-90, 89) + random.random()\n",
    "    latitudes.append(random_lat)\n",
    "    x += 1\n",
    "latitudes"
   ]
  },
  {
   "cell_type": "code",
   "execution_count": 9,
   "id": "4ad3a167",
   "metadata": {},
   "outputs": [
    {
     "data": {
      "text/plain": [
       "-28"
      ]
     },
     "execution_count": 9,
     "metadata": {},
     "output_type": "execute_result"
    }
   ],
   "source": [
    "random.randrange(-90, 90, step=1)"
   ]
  },
  {
   "cell_type": "code",
   "execution_count": 10,
   "id": "8b8fe42a",
   "metadata": {},
   "outputs": [
    {
     "data": {
      "text/plain": [
       "72"
      ]
     },
     "execution_count": 10,
     "metadata": {},
     "output_type": "execute_result"
    }
   ],
   "source": [
    "random.randrange(-90, 90, step=3)"
   ]
  },
  {
   "cell_type": "code",
   "execution_count": 11,
   "id": "5d420611",
   "metadata": {},
   "outputs": [
    {
     "data": {
      "text/plain": [
       "23.77654972268536"
      ]
     },
     "execution_count": 11,
     "metadata": {},
     "output_type": "execute_result"
    }
   ],
   "source": [
    "random.uniform(-90, 90)"
   ]
  },
  {
   "cell_type": "code",
   "execution_count": 12,
   "id": "9a1bf869",
   "metadata": {},
   "outputs": [],
   "source": [
    "# Import the NumPy module.\n",
    "import numpy as np"
   ]
  },
  {
   "cell_type": "code",
   "execution_count": 13,
   "id": "5b0d12e9",
   "metadata": {},
   "outputs": [
    {
     "data": {
      "text/plain": [
       "67.28477774147382"
      ]
     },
     "execution_count": 13,
     "metadata": {},
     "output_type": "execute_result"
    }
   ],
   "source": [
    "np.random.uniform(-90., 90.)"
   ]
  },
  {
   "cell_type": "code",
   "execution_count": 14,
   "id": "148f9985",
   "metadata": {},
   "outputs": [
    {
     "data": {
      "text/plain": [
       "-72.40637604177219"
      ]
     },
     "execution_count": 14,
     "metadata": {},
     "output_type": "execute_result"
    }
   ],
   "source": [
    "np.random.uniform(low=-90, high=90)"
   ]
  },
  {
   "cell_type": "code",
   "execution_count": 15,
   "id": "c9cf63fd",
   "metadata": {},
   "outputs": [
    {
     "data": {
      "text/plain": [
       "array([-82.93285749,  61.77193354,  -2.71439455, -81.97058283,\n",
       "       -73.71302036,  42.5914803 ,  12.31733461,  21.67472797,\n",
       "        18.75510564,  11.29061035,  53.82640968,  -6.83958267,\n",
       "        78.90528382,  71.97856738,  58.44979902, -77.85413909,\n",
       "        22.21274562,  61.23378551, -42.25805963, -53.78981363,\n",
       "       -61.14755694, -27.19739005,  11.87813994,   0.99497546,\n",
       "       -73.44947038,   3.78526089, -48.55504378,  61.05160589,\n",
       "       -12.05358607,  77.18009826,  20.30193759,  45.42379817,\n",
       "       -52.72416522, -68.78511528,  63.00659889, -10.08916467,\n",
       "       -41.34453555, -28.75757631,  14.8916486 ,  12.41224284,\n",
       "       -61.76984854,  35.84979707,  25.47010945,  43.17579892,\n",
       "       -50.07017189, -41.61357593,   2.58426446, -43.5102078 ,\n",
       "       -44.89814318,  48.93329038])"
      ]
     },
     "execution_count": 15,
     "metadata": {},
     "output_type": "execute_result"
    }
   ],
   "source": [
    "np.random.uniform(-90., 90., size=50)"
   ]
  },
  {
   "cell_type": "code",
   "execution_count": 16,
   "id": "c5220c5a",
   "metadata": {},
   "outputs": [],
   "source": [
    "# Import timeit.\n",
    "import timeit"
   ]
  },
  {
   "cell_type": "code",
   "execution_count": 17,
   "id": "d35fab17",
   "metadata": {},
   "outputs": [
    {
     "name": "stdout",
     "output_type": "stream",
     "text": [
      "14.5 µs ± 387 ns per loop (mean ± std. dev. of 7 runs, 100000 loops each)\n"
     ]
    }
   ],
   "source": [
    "%timeit np.random.uniform(-90.000, 90.000, size=1500)"
   ]
  },
  {
   "cell_type": "code",
   "execution_count": 18,
   "id": "b04db20e",
   "metadata": {},
   "outputs": [
    {
     "name": "stdout",
     "output_type": "stream",
     "text": [
      "1.36 ms ± 35.4 µs per loop (mean ± std. dev. of 7 runs, 1000 loops each)\n"
     ]
    }
   ],
   "source": [
    "def latitudes(size):\n",
    "    latitudes = []\n",
    "    x = 0\n",
    "    while x < (size):\n",
    "        random_lat = random.randint(-90, 90) + random.random()\n",
    "        latitudes.append(random_lat)\n",
    "        x += 1\n",
    "    return latitudes\n",
    "# Call the function with 1500.\n",
    "%timeit latitudes(1500)"
   ]
  },
  {
   "cell_type": "code",
   "execution_count": null,
   "id": "3ff94771",
   "metadata": {},
   "outputs": [],
   "source": []
  }
 ],
 "metadata": {
  "kernelspec": {
   "display_name": "PythoData",
   "language": "python",
   "name": "pythodata"
  },
  "language_info": {
   "codemirror_mode": {
    "name": "ipython",
    "version": 3
   },
   "file_extension": ".py",
   "mimetype": "text/x-python",
   "name": "python",
   "nbconvert_exporter": "python",
   "pygments_lexer": "ipython3",
   "version": "3.8.8"
  }
 },
 "nbformat": 4,
 "nbformat_minor": 5
}
